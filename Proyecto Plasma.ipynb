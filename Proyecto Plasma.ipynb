{
 "cells": [
  {
   "cell_type": "markdown",
   "metadata": {},
   "source": [
    "# Dinámica de un Plasma"
   ]
  },
  {
   "cell_type": "markdown",
   "metadata": {},
   "source": [
    "El plasma que se modela acontinuación corresponde a un conjunto de párticulas con:\n",
    "* Masa \n",
    "* Cargadas \n",
    "* Puntuales condenadas a moverse en sobre una linea \n",
    "\n",
    "Las cuales sufren la interacción Coulombina debida sus vecinos, así como una sola fuerza de tipo mágnetica debido a un campo mágnetico externo perpendicular al espacio donde se mueven las partículas, he aquí:\n",
    "* **La primera aproximación: Despreciamos el campo magnético generado por la carga en movimiento de las párticulas.**\n",
    "\n",
    "Resultado que se alcanza al despreciarlo frente al campo externo, a esta aproximación se le suele llamar problema cuasi-estático."
   ]
  },
  {
   "cell_type": "markdown",
   "metadata": {},
   "source": [
    "Hasta ahora dadas las condiciones planteadas el modelo se realiza sobre un arreglo de 6 columnas y Np renglones:\n",
    "\n",
    "$$ \\begin{pmatrix}q_1 & m_1 & x_1 & vx_1 & vy_1 & vz_1\\\\ q_2 & m_2 & x_2 & vx_2 & vy_2 & vz_2\\\\ \\vdots & \\vdots & \\vdots & \\vdots & \\vdots & \\vdots\\\\ q_N & m_N & x_N & vx_N & vy_N & vz_n   \\end{pmatrix} $$"
   ]
  },
  {
   "cell_type": "code",
   "execution_count": 18,
   "metadata": {
    "collapsed": false
   },
   "outputs": [],
   "source": [
    "#Damos el tamaño de la linea.\n",
    "L = 3\n",
    "#También el número de particulas.\n",
    "Np = 2\n",
    "#Ahora declaramos la cantidad de puntos en la red que describe el sistema.\n",
    "Ng = 1001\n",
    "#Con Intervalos de longitud determinada por:\n",
    "dx = L/(Ng - 1)\n",
    "Pi = float(pi);"
   ]
  },
  {
   "cell_type": "code",
   "execution_count": 2,
   "metadata": {
    "collapsed": false
   },
   "outputs": [],
   "source": [
    "#Creamos las particulas\n",
    "partículas = zeros(Np, 6);"
   ]
  },
  {
   "cell_type": "markdown",
   "metadata": {},
   "source": [
    "La dinámica de un plasma depende de la interacción de las particulas con el campo que genera la propia distribución de partículas, por esta razón necesitamos modelar también la distribución de las párticulas, así como los valores del campo eléctrico (aproximación Electroestática) en el espacio de confinamiento.\n",
    "\n",
    "Para ello utilizamos modelos, comenzando por el cálculo de la distribució a partir de:\n",
    "\n",
    "* ** Segunda aproximación: la distribución de partículas esta determinada por un modelo que consiste en una función de densidad que depende de la posición en el espacio de confinamiento. A esta aproximación se le suele llamar medio continuo.  **"
   ]
  },
  {
   "cell_type": "markdown",
   "metadata": {},
   "source": [
    "Otro aspecto a tomar en cuneta es el confinamiento de las párticulas que tiene la cualidad de ser periódico, es decir que en los extremos de la linea las condiciones son las mismas, pues es necesaria la periodicidad para calcular el potencial vía **Transformada de Fourier**.\n",
    "\n",
    "* **La Tercera aproximación: El plasma que trabajamos cumple tener el mismo valor de densidad de carga en las fronteras, en la realidad esta propiedad se puede aproximar por un plasma confinado a un \"Círculo bastante grande\" (lo suficiente para garantizar una densidad de carga uniforme por cada intervalo).**"
   ]
  },
  {
   "cell_type": "markdown",
   "metadata": {},
   "source": [
    "Esta información se guarda en un arreglo de estado de 3 columnas y (Ng + 1) renglones, pues solo se conoce información en la posiciones de la red:\n",
    "\n",
    "$$ \\begin{pmatrix}\\rho_1 & \\phi_1 & E_1 \\\\ \\rho_2 & \\phi_2 & E_2 \\\\ \\vdots & \\vdots & \\vdots \\\\ \\rho_{Ng+1} & \\phi_{Ng+1} & E_{Ng+1} \\end{pmatrix} $$\n",
    "\n",
    "Donde por conveniencia se el último renglon y corresponde al mismo punto experimental que el primero, pero que debido a la forma de como calculamos la densidad de carga lineal es util introducirlo."
   ]
  },
  {
   "cell_type": "code",
   "execution_count": 9,
   "metadata": {
    "collapsed": false
   },
   "outputs": [],
   "source": [
    "#Creamos los puntos del espacio de confinamiento\n",
    "red_mundo = zeros(Ng+1, 3);"
   ]
  },
  {
   "cell_type": "code",
   "execution_count": 15,
   "metadata": {
    "collapsed": false
   },
   "outputs": [
    {
     "data": {
      "text/plain": [
       "rho_triángulos (generic function with 1 method)"
      ]
     },
     "execution_count": 15,
     "metadata": {},
     "output_type": "execute_result"
    }
   ],
   "source": [
    "#Calculamos la función de densidad de carga \"Triángulos\".\n",
    "function rho_triángulos()\n",
    "    for n in 1:Np\n",
    "        q, m, x, vx, vy, vz = partículas[n,:]\n",
    "        #Calculamos el punto a la Izquierda de la partícula\n",
    "        punto_izq = Int(floor(x/dx))\n",
    "        #Calculamos el punto a la Derecha de la partícula\n",
    "        punto_der = punto_izq + 1\n",
    "        #Distancia de la partícula al punto de la Izquierda\n",
    "        d_izq = x % dx\n",
    "        #Distancia de la partícula al punto de la Derecha\n",
    "        d_der = dx - d_izq\n",
    "        #Ahora calculamos el peso que contribuye al lado Izquierdo\n",
    "        red_mundo[punto_izq, 1] += q/dx * (1 - d_izq/dx)\n",
    "        #Y la contribución de pesoa a la Derecha\n",
    "        red_mundo[punto_der, 1] += q/dx * (1 - d_der/dx)\n",
    "    end\n",
    "    #E introducimos las condiciones a la frontera\n",
    "    red_mundo[Ng + 1, 1] = red_mundo[1, 1]\n",
    "    return red_mundo\n",
    "end "
   ]
  },
  {
   "cell_type": "markdown",
   "metadata": {},
   "source": [
    "## ## Explicar teoría física para cálculo de potencial, FFT y IFFT"
   ]
  },
  {
   "cell_type": "code",
   "execution_count": 21,
   "metadata": {
    "collapsed": false
   },
   "outputs": [
    {
     "data": {
      "text/plain": [
       "potencial_phi (generic function with 1 method)"
      ]
     },
     "execution_count": 21,
     "metadata": {},
     "output_type": "execute_result"
    }
   ],
   "source": [
    "#Calculemos el Potencial por via Transformada rápida de Fourier\n",
    "function potencial_phi()\n",
    "    #El primer paso consiste en \n",
    "    rhok = fft(red_mundo[1:Ng, 1])\n",
    "    \n",
    "    #Ahora obtenemos el potencial de esta función de densidad resolviendo la ecuación de Poison.\n",
    "    #Recordando que si la carga neta es distinta de cero las condiciones a la frontera no se cumplen.\n",
    "    phik = rhok\n",
    "    phik[1] = 0\n",
    "    \n",
    "    #Notando que por estar en el sistema CGS se introduce un factor de 4Pi\n",
    "    \n",
    "    for k in 1:Ng-1\n",
    "        phik[k+1] = 4 * Pi * phik[k+1]/(k * 2 * Pi * 1/L * sinc(k/Ng))^2\n",
    "    end\n",
    "    \n",
    "    #Y podemos regresar al espacio de posiciones mediante la Transformada Inversa de Fourier.\n",
    "    red_mundo[1:Ng, 2] = real(ifft(phik))\n",
    "    \n",
    "    #Finalmente introducimos la condición de continuidad en la frontera\n",
    "    red_mundo[Ng + 1, 2] = red_mundo[1, 2]\n",
    "    return\n",
    "end     "
   ]
  },
  {
   "cell_type": "markdown",
   "metadata": {},
   "source": [
    "## ## Incluir una explicación sobre el cálculo del campo a partir del potencial, asi como la necesidad de calcular una interpolación del campo."
   ]
  },
  {
   "cell_type": "code",
   "execution_count": 5,
   "metadata": {
    "collapsed": false
   },
   "outputs": [
    {
     "data": {
      "text/plain": [
       "campo_eléctrico (generic function with 1 method)"
      ]
     },
     "execution_count": 5,
     "metadata": {},
     "output_type": "execute_result"
    }
   ],
   "source": [
    "#Calculemos ahora el campo eléctrico, via diferencias finitas\n",
    "function campo_eléctrico()\n",
    "    for n in  2:Ng\n",
    "        red_mundo[n, 3] = (red_mundo[n-1, 2]- red_mundo[n+1, 2])/(2 * dx)\n",
    "    end\n",
    "    \n",
    "    #Declaramos los valores para los puntos faltantes\n",
    "    red_mundo[1, 3] = (red_mundo[Ng, 2] - red_mundo[2, 2])/(2 * dx)\n",
    "    red_mundo[Ng + 1, 3] = red_mundo[1, 3]\n",
    "end"
   ]
  },
  {
   "cell_type": "markdown",
   "metadata": {},
   "source": [
    "Para poder conocer el campo en cada posición de cada partícula se introduce:\n",
    "\n",
    "* ** La Cuarta aproxicimación: conocemos el campo en cada uno de los puntos sobre la red, sin embargo las posiciones de las partículas son arbitrarias, por lo tanto para conocer el campo aplicado sobre cada particula interpolamos los valores entre cada punto de la red. **"
   ]
  },
  {
   "cell_type": "code",
   "execution_count": 6,
   "metadata": {
    "collapsed": false
   },
   "outputs": [
    {
     "data": {
      "text/plain": [
       "interpolación_campo (generic function with 1 method)"
      ]
     },
     "execution_count": 6,
     "metadata": {},
     "output_type": "execute_result"
    }
   ],
   "source": [
    "#Interpolación del Campo eléctrico\n",
    "function interpolación_campo(x)\n",
    "    #Encontramos el intervalo de puntos de la red que rondean la posición x\n",
    "    N = x/dx + 1\n",
    "    red_izq = Int(floor(N))\n",
    "    red_der = red_izq + 1\n",
    "    \n",
    "    #Cerramos las condiciones en los extremos\n",
    "    if red_izq == Ng\n",
    "        red_der = 2\n",
    "    end\n",
    "    \n",
    "    #Encontramos el desplazamiento entre el punto Izquierdo y Derecho\n",
    "    d_L = x - dx * (red_izq - 1)\n",
    "    \n",
    "    #Caculamos el valor interpolado fuera de la red\n",
    "    return red_mundo[red_izq, 3] + d_L/dx * (red_mundo[red_der, 3] - red_mundo[red_izq, 3])\n",
    "end         "
   ]
  },
  {
   "cell_type": "markdown",
   "metadata": {},
   "source": [
    "## Evolución temporal"
   ]
  },
  {
   "cell_type": "markdown",
   "metadata": {},
   "source": [
    "La evolución de la partícula se obtiene a partir del calculo de las posiciones y velocidades de una partícula en cada punto de una serie de tiempos, espaciada uniformemente por un intervalo de tamaño ** dt **.\n",
    "\n",
    "Pongamos un alto en este punto, y demos espacio a pensar cuales son las posibilidades para calcular la evolución temporal de forma númerica:\n",
    "\n",
    "* Primeramente tenemos Np vectores a los que llamamos partículas, los cuales contienen la información de cada elemento del plasma, entre estos datos tenemos la posición y velocidades actuales de la partícula, y a partir de ellos, las ecuaciones de Maxwell y de Newton debemos obtener las posiciones y velocidades en cada elemento de la serie de tiempo para cada una de las párticulas.\n",
    "\n",
    "* Tenemos varias opciones para integrar las velocidades y las posiciones: Métodojn de Euler, "
   ]
  },
  {
   "cell_type": "code",
   "execution_count": null,
   "metadata": {
    "collapsed": true
   },
   "outputs": [],
   "source": [
    "#Calculamos las nuevas posiciones, ocupando la hipotesis de tratar con un problema cuasi-estático\n"
   ]
  },
  {
   "cell_type": "markdown",
   "metadata": {},
   "source": [
    "Esto se traduce en calcular la aceleración de cada partícula, para rango de tiempos: "
   ]
  },
  {
   "cell_type": "code",
   "execution_count": null,
   "metadata": {
    "collapsed": true
   },
   "outputs": [],
   "source": []
  },
  {
   "cell_type": "markdown",
   "metadata": {},
   "source": [
    "Para calcular la evolución temporal del sistema se recurre a un método llamado ** \" Leapfrog \" **, que consiste:\n",
    "* **La Quinta aproximación: introduce un retardo temporal en la velocidad, de tamaño: $$\\cfrac{dt}{2}$$**"
   ]
  },
  {
   "cell_type": "markdown",
   "metadata": {},
   "source": [
    "## Cálculos de Transformada de Fourier para un espacio de una dimensión"
   ]
  },
  {
   "cell_type": "code",
   "execution_count": 2,
   "metadata": {
    "collapsed": false
   },
   "outputs": [
    {
     "name": "stderr",
     "output_type": "stream",
     "text": [
      "INFO: Loading help data...\n"
     ]
    }
   ],
   "source": [
    "using PyPlot"
   ]
  },
  {
   "cell_type": "code",
   "execution_count": 15,
   "metadata": {
    "collapsed": false
   },
   "outputs": [
    {
     "ename": "LoadError",
     "evalue": "syntax: missing separator in tuple\nwhile loading In[15], in expression starting on line 4",
     "output_type": "error",
     "traceback": [
      "syntax: missing separator in tuple\nwhile loading In[15], in expression starting on line 4",
      ""
     ]
    }
   ],
   "source": [
    "#Una transformada necesaria es la transformada de un operador derivada.\n",
    "function difk(arr)\n",
    "    for k in 0:length(arr)-1 \n",
    "        arr[k+1] = arr[k+1] * im * k * (2 Pi/L) * sinc(2 k/N)\n",
    "    end\n",
    "    return arr\n",
    "end"
   ]
  },
  {
   "cell_type": "code",
   "execution_count": 16,
   "metadata": {
    "collapsed": false
   },
   "outputs": [
    {
     "ename": "LoadError",
     "evalue": "syntax: missing separator in tuple\nwhile loading In[16], in expression starting on line 4",
     "output_type": "error",
     "traceback": [
      "syntax: missing separator in tuple\nwhile loading In[16], in expression starting on line 4",
      ""
     ]
    }
   ],
   "source": [
    "#Otro operador importante es la segunda derivada, cuya transformada discreta es:\n",
    "function ddifk(arr)\n",
    "    for k in 0:length(arr)-1\n",
    "        arr[k+1] = -arr[k+1] * (k * (2 Pi/L) * sinc(2 k/N))^2\n",
    "        if k > length(arr)-1\n",
    "            arr[k+1] = 0\n",
    "        end\n",
    "    end\n",
    "    return arr\n",
    "end"
   ]
  },
  {
   "cell_type": "code",
   "execution_count": 19,
   "metadata": {
    "collapsed": false
   },
   "outputs": [
    {
     "ename": "LoadError",
     "evalue": "syntax: missing separator in tuple\nwhile loading In[19], in expression starting on line 8",
     "output_type": "error",
     "traceback": [
      "syntax: missing separator in tuple\nwhile loading In[19], in expression starting on line 8",
      ""
     ]
    }
   ],
   "source": [
    "#El operador de integración tambien es necesario y se obtine por:\n",
    "function intk(arr)\n",
    "    #El termino constante se introduce de una forma diferente\n",
    "    a0 = arr[1]\n",
    "    \n",
    "    arr[1] = 0\n",
    "    for k in 1:length(arr)-1\n",
    "        arr[k+1] = arr[k+1] / (im * k * (2 Pi/L) * sinc(2 k/N)) + (im * a0 * L/(Pi*k))\n",
    "    end\n",
    "end"
   ]
  },
  {
   "cell_type": "code",
   "execution_count": 18,
   "metadata": {
    "collapsed": false
   },
   "outputs": [
    {
     "ename": "LoadError",
     "evalue": "syntax: missing separator in tuple\nwhile loading In[18], in expression starting on line 8",
     "output_type": "error",
     "traceback": [
      "syntax: missing separator in tuple\nwhile loading In[18], in expression starting on line 8",
      ""
     ]
    }
   ],
   "source": [
    "#El operador de segunda integral se obtiene por:\n",
    "function iintk(arr)\n",
    "    #Introducimos el termino constante artificialmente\n",
    "    a0 = arr[1]\n",
    "    \n",
    "    arr[1] = 0\n",
    "    for k in 1:length(arr)-1\n",
    "        arr[k+1] = -arr[k+1] / (k * (2 Pi/L) * sinc(2 k/N))^2 + (im * a0 * L/(pi*k))^2\n",
    "    end\n",
    "end"
   ]
  },
  {
   "cell_type": "code",
   "execution_count": null,
   "metadata": {
    "collapsed": true
   },
   "outputs": [],
   "source": []
  }
 ],
 "metadata": {
  "kernelspec": {
   "display_name": "Julia 0.3.11",
   "language": "julia",
   "name": "julia-0.3"
  },
  "language_info": {
   "name": "julia",
   "version": "0.3.11"
  }
 },
 "nbformat": 4,
 "nbformat_minor": 0
}
